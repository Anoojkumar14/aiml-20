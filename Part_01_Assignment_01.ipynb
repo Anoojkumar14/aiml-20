{
  "nbformat": 4,
  "nbformat_minor": 0,
  "metadata": {
    "colab": {
      "provenance": []
    },
    "kernelspec": {
      "name": "python3",
      "display_name": "Python 3"
    },
    "language_info": {
      "name": "python"
    }
  },
  "cells": [
    {
      "cell_type": "code",
      "execution_count": 1,
      "metadata": {
        "id": "zywhraouC3-K",
        "colab": {
          "base_uri": "https://localhost:8080/"
        },
        "outputId": "3c4e651d-fde1-41df-c3f6-19fa588ad3b3"
      },
      "outputs": [
        {
          "output_type": "stream",
          "name": "stdout",
          "text": [
            "[1 2 3 4]\n"
          ]
        }
      ],
      "source": [
        "import numpy as np\n",
        "arr=np.array([1,2,3,4])\n",
        "print (arr)"
      ]
    }
  ]
}